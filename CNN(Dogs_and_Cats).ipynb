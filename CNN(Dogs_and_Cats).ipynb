{
 "cells": [
  {
   "cell_type": "code",
   "execution_count": 2,
   "id": "8c6f2453",
   "metadata": {},
   "outputs": [],
   "source": [
    "from keras import layers\n",
    "from keras import models\n",
    "\n",
    "model = models.Sequential()\n",
    "model.add(layers.Conv2D(32,(3,3), activation = 'relu', input_shape = (150,150,3)))\n",
    "model.add(layers.MaxPooling2D((2,2)))\n",
    "model.add(layers.Conv2D(64,(3,3), activation = 'relu'))\n",
    "model.add(layers.MaxPooling2D((2,2)))\n",
    "model.add(layers.Conv2D(128,(3,3), activation = 'relu'))\n",
    "model.add(layers.MaxPooling2D((2,2)))\n",
    "model.add(layers.Conv2D(128, (3, 3), activation='relu'))\n",
    "model.add(layers.MaxPooling2D((2, 2)))\n",
    "model.add(layers.Flatten())\n",
    "model.add(layers.Dense(512, activation = 'relu'))\n",
    "model.add(layers.Dense(1, activation = 'sigmoid'))\n"
   ]
  },
  {
   "cell_type": "code",
   "execution_count": 3,
   "id": "23906f0c",
   "metadata": {},
   "outputs": [
    {
     "name": "stdout",
     "output_type": "stream",
     "text": [
      "Model: \"sequential\"\n",
      "_________________________________________________________________\n",
      "Layer (type)                 Output Shape              Param #   \n",
      "=================================================================\n",
      "conv2d (Conv2D)              (None, 148, 148, 32)      896       \n",
      "_________________________________________________________________\n",
      "max_pooling2d (MaxPooling2D) (None, 74, 74, 32)        0         \n",
      "_________________________________________________________________\n",
      "conv2d_1 (Conv2D)            (None, 72, 72, 64)        18496     \n",
      "_________________________________________________________________\n",
      "max_pooling2d_1 (MaxPooling2 (None, 36, 36, 64)        0         \n",
      "_________________________________________________________________\n",
      "conv2d_2 (Conv2D)            (None, 34, 34, 128)       73856     \n",
      "_________________________________________________________________\n",
      "max_pooling2d_2 (MaxPooling2 (None, 17, 17, 128)       0         \n",
      "_________________________________________________________________\n",
      "conv2d_3 (Conv2D)            (None, 15, 15, 128)       147584    \n",
      "_________________________________________________________________\n",
      "max_pooling2d_3 (MaxPooling2 (None, 7, 7, 128)         0         \n",
      "_________________________________________________________________\n",
      "flatten (Flatten)            (None, 6272)              0         \n",
      "_________________________________________________________________\n",
      "dense (Dense)                (None, 512)               3211776   \n",
      "_________________________________________________________________\n",
      "dense_1 (Dense)              (None, 1)                 513       \n",
      "=================================================================\n",
      "Total params: 3,453,121\n",
      "Trainable params: 3,453,121\n",
      "Non-trainable params: 0\n",
      "_________________________________________________________________\n"
     ]
    }
   ],
   "source": [
    "model.summary()"
   ]
  },
  {
   "cell_type": "code",
   "execution_count": 4,
   "id": "9a07375f",
   "metadata": {},
   "outputs": [
    {
     "name": "stderr",
     "output_type": "stream",
     "text": [
      "C:\\Users\\dell\\anaconda3\\lib\\site-packages\\tensorflow\\python\\keras\\optimizer_v2\\optimizer_v2.py:374: UserWarning: The `lr` argument is deprecated, use `learning_rate` instead.\n",
      "  warnings.warn(\n"
     ]
    }
   ],
   "source": [
    "from keras import optimizers\n",
    "model.compile(loss = 'binary_crossentropy', optimizer=optimizers.RMSprop(lr=1e-4),metrics=['acc'])"
   ]
  },
  {
   "cell_type": "code",
   "execution_count": 1,
   "id": "f5d7d059",
   "metadata": {},
   "outputs": [],
   "source": [
    "import os, shutil\n",
    "base_dir = \"/Users/dell/OneDrive/Desktop/New Folder/cats_and_dogs_small\"\n",
    "os.mkdir(base_dir)\n",
    "train_dir = os.path.join(base_dir, 'train')\n",
    "os.mkdir(train_dir)\n",
    "validation_dir = os.path.join(base_dir, 'validation')\n",
    "os.mkdir(validation_dir)\n",
    "test_dir = os.path.join(base_dir, 'test')\n",
    "os.mkdir(test_dir)\n",
    "train_cats_dir = os.path.join(train_dir, 'cats')\n",
    "os.mkdir(train_cats_dir)\n",
    "train_dogs_dir = os.path.join(train_dir, 'dogs')\n",
    "os.mkdir(train_dogs_dir)\n",
    "validation_cats_dir = os.path.join(validation_dir, 'cats')\n",
    "os.mkdir(validation_cats_dir)\n",
    "validation_dogs_dir = os.path.join(validation_dir, 'dogs')\n",
    "os.mkdir(validation_dogs_dir)\n",
    "test_cats_dir = os.path.join(test_dir, 'cats')\n",
    "os.mkdir(test_cats_dir)\n",
    "test_dogs_dir = os.path.join(test_dir, 'dogs')\n",
    "os.mkdir(test_dogs_dir)\n",
    "original_dataset_dir = \"/Users/dell/OneDrive/Desktop/New Folder/train\"\n",
    "fnames = ['cat.{}.jpg'.format(i) for i in range(1000)]\n",
    "for fname in fnames:\n",
    "  src = os.path.join(original_dataset_dir, fname)\n",
    "  dst = os.path.join(train_cats_dir, fname)\n",
    "  shutil.copyfile(src, dst)\n",
    "fnames = ['cat.{}.jpg'.format(i) for i in range(1000, 1500)]\n",
    "for fname in fnames:\n",
    "  src = os.path.join(original_dataset_dir, fname)\n",
    "  dst = os.path.join(validation_cats_dir, fname)\n",
    "  shutil.copyfile(src, dst)\n",
    "fnames = ['cat.{}.jpg'.format(i) for i in range(1500, 2000)]\n",
    "for fname in fnames:\n",
    "  src = os.path.join(original_dataset_dir, fname)\n",
    "  dst = os.path.join(test_cats_dir, fname)\n",
    "  shutil.copyfile(src, dst)\n",
    "fnames = ['dog.{}.jpg'.format(i) for i in range(1000)]\n",
    "for fname in fnames:\n",
    "  src = os.path.join(original_dataset_dir, fname)\n",
    "  dst = os.path.join(train_dogs_dir, fname)\n",
    "  shutil.copyfile(src, dst)\n",
    "fnames = ['dog.{}.jpg'.format(i) for i in range(1000, 1500)]\n",
    "for fname in fnames:\n",
    "  src = os.path.join(original_dataset_dir, fname)\n",
    "  dst = os.path.join(validation_dogs_dir, fname)\n",
    "  shutil.copyfile(src, dst)\n",
    "fnames = ['dog.{}.jpg'.format(i) for i in range(1500, 2000)]\n",
    "for fname in fnames:\n",
    "  src = os.path.join(original_dataset_dir, fname)\n",
    "  dst = os.path.join(test_dogs_dir, fname)\n",
    "  shutil.copyfile(src, dst)"
   ]
  },
  {
   "cell_type": "code",
   "execution_count": 5,
   "id": "d93aa398",
   "metadata": {},
   "outputs": [
    {
     "name": "stdout",
     "output_type": "stream",
     "text": [
      "Found 2000 images belonging to 2 classes.\n",
      "Found 1000 images belonging to 2 classes.\n"
     ]
    }
   ],
   "source": [
    "from keras.preprocessing.image import ImageDataGenerator\n",
    "train_datagen = ImageDataGenerator(rescale=1./255)\n",
    "test_datagen = ImageDataGenerator(rescale=1./255)\n",
    "train_generator = train_datagen.flow_from_directory(\n",
    "    train_dir,\n",
    "    target_size = (150,150),\n",
    "    batch_size = 20,\n",
    "    class_mode = 'binary'\n",
    ")\n",
    "validation_generator = test_datagen.flow_from_directory(\n",
    "    validation_dir,\n",
    "    target_size = (150,150),\n",
    "    batch_size = 20,\n",
    "    class_mode = 'binary'\n",
    ")"
   ]
  },
  {
   "cell_type": "code",
   "execution_count": 6,
   "id": "5e51a3de",
   "metadata": {},
   "outputs": [
    {
     "name": "stdout",
     "output_type": "stream",
     "text": [
      "data batch shape: (20, 150, 150, 3)\n",
      "labels batch shape: (20,)\n"
     ]
    }
   ],
   "source": [
    "for data_batch, labels_batch in train_generator:\n",
    "    print('data batch shape:', data_batch.shape)\n",
    "    print('labels batch shape:', labels_batch.shape)\n",
    "    break"
   ]
  },
  {
   "cell_type": "code",
   "execution_count": 8,
   "id": "b2de94bb",
   "metadata": {},
   "outputs": [
    {
     "name": "stdout",
     "output_type": "stream",
     "text": [
      "Epoch 1/30\n",
      "100/100 [==============================] - 106s 1s/step - loss: 0.6761 - acc: 0.5750 - val_loss: 0.6542 - val_acc: 0.6030\n",
      "Epoch 2/30\n",
      "100/100 [==============================] - 128s 1s/step - loss: 0.6362 - acc: 0.6380 - val_loss: 0.6230 - val_acc: 0.6480\n",
      "Epoch 3/30\n",
      "100/100 [==============================] - 122s 1s/step - loss: 0.5863 - acc: 0.6785 - val_loss: 0.6137 - val_acc: 0.6470\n",
      "Epoch 4/30\n",
      "100/100 [==============================] - 131s 1s/step - loss: 0.5559 - acc: 0.7100 - val_loss: 0.5940 - val_acc: 0.6840\n",
      "Epoch 5/30\n",
      "100/100 [==============================] - 142s 1s/step - loss: 0.5281 - acc: 0.7305 - val_loss: 0.5676 - val_acc: 0.7140\n",
      "Epoch 6/30\n",
      "100/100 [==============================] - 135s 1s/step - loss: 0.5000 - acc: 0.7560 - val_loss: 0.5538 - val_acc: 0.7060\n",
      "Epoch 7/30\n",
      "100/100 [==============================] - 99s 977ms/step - loss: 0.4747 - acc: 0.7710 - val_loss: 0.5568 - val_acc: 0.6980\n",
      "Epoch 8/30\n",
      "100/100 [==============================] - 63s 635ms/step - loss: 0.4510 - acc: 0.7880 - val_loss: 0.5360 - val_acc: 0.7130\n",
      "Epoch 9/30\n",
      "100/100 [==============================] - 68s 685ms/step - loss: 0.4227 - acc: 0.8065 - val_loss: 0.5499 - val_acc: 0.7270\n",
      "Epoch 10/30\n",
      "100/100 [==============================] - 71s 712ms/step - loss: 0.4030 - acc: 0.8160 - val_loss: 0.5321 - val_acc: 0.7370\n",
      "Epoch 11/30\n",
      "100/100 [==============================] - 64s 639ms/step - loss: 0.3827 - acc: 0.8275 - val_loss: 0.5938 - val_acc: 0.7080\n",
      "Epoch 12/30\n",
      "100/100 [==============================] - 66s 658ms/step - loss: 0.3517 - acc: 0.8365 - val_loss: 0.5193 - val_acc: 0.7520\n",
      "Epoch 13/30\n",
      "100/100 [==============================] - 68s 684ms/step - loss: 0.3353 - acc: 0.8505 - val_loss: 0.5738 - val_acc: 0.7310\n",
      "Epoch 14/30\n",
      "100/100 [==============================] - 62s 624ms/step - loss: 0.3060 - acc: 0.8665 - val_loss: 0.6193 - val_acc: 0.7260\n",
      "Epoch 15/30\n",
      "100/100 [==============================] - 85s 856ms/step - loss: 0.2870 - acc: 0.8810 - val_loss: 0.5540 - val_acc: 0.7370\n",
      "Epoch 16/30\n",
      "100/100 [==============================] - 86s 859ms/step - loss: 0.2645 - acc: 0.8910 - val_loss: 0.7554 - val_acc: 0.7030\n",
      "Epoch 17/30\n",
      "100/100 [==============================] - 75s 753ms/step - loss: 0.2460 - acc: 0.9005 - val_loss: 0.5740 - val_acc: 0.7410\n",
      "Epoch 18/30\n",
      "100/100 [==============================] - 71s 715ms/step - loss: 0.2275 - acc: 0.9160 - val_loss: 0.6715 - val_acc: 0.7170\n",
      "Epoch 19/30\n",
      "100/100 [==============================] - 74s 741ms/step - loss: 0.2088 - acc: 0.9245 - val_loss: 0.6389 - val_acc: 0.7330\n",
      "Epoch 20/30\n",
      "100/100 [==============================] - 77s 773ms/step - loss: 0.1902 - acc: 0.9305 - val_loss: 0.6210 - val_acc: 0.7390\n",
      "Epoch 21/30\n",
      "100/100 [==============================] - 77s 768ms/step - loss: 0.1716 - acc: 0.9345 - val_loss: 0.6981 - val_acc: 0.7440\n",
      "Epoch 22/30\n",
      "100/100 [==============================] - 74s 739ms/step - loss: 0.1574 - acc: 0.9455 - val_loss: 0.6414 - val_acc: 0.7360\n",
      "Epoch 23/30\n",
      "100/100 [==============================] - 71s 713ms/step - loss: 0.1321 - acc: 0.9565 - val_loss: 0.6731 - val_acc: 0.7470\n",
      "Epoch 24/30\n",
      "100/100 [==============================] - 69s 685ms/step - loss: 0.1193 - acc: 0.9590 - val_loss: 0.8376 - val_acc: 0.7280\n",
      "Epoch 25/30\n",
      "100/100 [==============================] - 70s 705ms/step - loss: 0.1035 - acc: 0.9690 - val_loss: 0.7278 - val_acc: 0.7470\n",
      "Epoch 26/30\n",
      "100/100 [==============================] - 79s 792ms/step - loss: 0.0882 - acc: 0.9745 - val_loss: 0.7523 - val_acc: 0.7460\n",
      "Epoch 27/30\n",
      "100/100 [==============================] - 76s 758ms/step - loss: 0.0786 - acc: 0.9765 - val_loss: 0.7578 - val_acc: 0.7490\n",
      "Epoch 28/30\n",
      "100/100 [==============================] - 77s 767ms/step - loss: 0.0640 - acc: 0.9845 - val_loss: 0.8398 - val_acc: 0.7350\n",
      "Epoch 29/30\n",
      "100/100 [==============================] - 75s 753ms/step - loss: 0.0564 - acc: 0.9820 - val_loss: 0.8373 - val_acc: 0.7420\n",
      "Epoch 30/30\n",
      "100/100 [==============================] - 74s 738ms/step - loss: 0.0472 - acc: 0.9910 - val_loss: 0.8787 - val_acc: 0.7500\n"
     ]
    }
   ],
   "source": [
    "history = model.fit_generator(\n",
    "    train_generator,\n",
    "    steps_per_epoch = 100,\n",
    "    epochs=30,\n",
    "    validation_data = validation_generator,\n",
    "    validation_steps=50\n",
    ")"
   ]
  },
  {
   "cell_type": "code",
   "execution_count": 9,
   "id": "f01d2db0",
   "metadata": {},
   "outputs": [],
   "source": [
    "model.save('cats_and_dogs_small_1.h5')"
   ]
  },
  {
   "cell_type": "code",
   "execution_count": 10,
   "id": "b92c2a1f",
   "metadata": {},
   "outputs": [
    {
     "data": {
      "image/png": "[encoded data removed]",
      "text/plain": [
       "<Figure size 432x288 with 1 Axes>"
      ]
     },
     "metadata": {
      "needs_background": "light"
     },
     "output_type": "display_data"
    },
    {
     "data": {
      "image/png": "[encoded data removed]",
      "text/plain": [
       "<Figure size 432x288 with 1 Axes>"
      ]
     },
     "metadata": {
      "needs_background": "light"
     },
     "output_type": "display_data"
    }
   ],
   "source": [
    "import matplotlib.pyplot as plt\n",
    "acc = history.history['acc']\n",
    "val_acc = history.history['val_acc']\n",
    "loss = history.history['loss']\n",
    "val_loss = history.history['val_loss']\n",
    "epochs = range(1, len(acc) + 1)\n",
    "plt.plot(epochs, acc, 'bo', label='Training acc')\n",
    "plt.plot(epochs, val_acc, 'b', label='Validation acc')\n",
    "plt.title('Training and validation accuracy')\n",
    "plt.legend()\n",
    "plt.figure()\n",
    "plt.plot(epochs, loss, 'bo', label='Training loss')\n",
    "plt.plot(epochs, val_loss, 'b', label='Validation loss')\n",
    "plt.title('Training and validation loss')\n",
    "plt.legend()\n",
    "plt.show()"
   ]
  },
  {
   "cell_type": "code",
   "execution_count": 14,
   "id": "189cfdba",
   "metadata": {},
   "outputs": [],
   "source": [
    "model = models.Sequential()\n",
    "model.add(layers.Conv2D(32,(3,3),activation='relu',input_shape=(150,150,3)))\n",
    "model.add(layers.MaxPooling2D((2,2)))\n",
    "model.add(layers.Conv2D(64,(3,3),activation='relu'))\n",
    "model.add(layers.MaxPooling2D((2,2)))\n",
    "model.add(layers.Conv2D(128, (3, 3), activation='relu'))\n",
    "model.add(layers.MaxPooling2D((2, 2)))\n",
    "model.add(layers.Conv2D(128, (3, 3), activation='relu'))\n",
    "model.add(layers.MaxPooling2D((2, 2)))\n",
    "model.add(layers.Flatten())\n",
    "model.add(layers.Dropout(0.5))\n",
    "model.add(layers.Dense(1,activation='relu'))\n",
    "model.add(layers.Dense(1,activation='sigmoid'))\n",
    "model.compile(loss='binary_crossentropy',\n",
    "             optimizer=optimizers.RMSprop(lr=1e-4),\n",
    "             metrics=['acc'])\n"
   ]
  },
  {
   "cell_type": "code",
   "execution_count": 16,
   "id": "1020695a",
   "metadata": {},
   "outputs": [],
   "source": [
    "train_datagen = ImageDataGenerator(\n",
    "    rescale = 1./255,\n",
    "    rotation_range = 40,\n",
    "    width_shift_range=0.2,\n",
    "    height_shift_range=0.2,\n",
    "    shear_range=0.2,\n",
    "    zoom_range=0.2,\n",
    "    horizontal_flip=True\n",
    ")"
   ]
  },
  {
   "cell_type": "code",
   "execution_count": 18,
   "id": "d408e7cb",
   "metadata": {},
   "outputs": [
    {
     "name": "stdout",
     "output_type": "stream",
     "text": [
      "Found 2000 images belonging to 2 classes.\n",
      "Found 1000 images belonging to 2 classes.\n",
      "Epoch 1/20\n",
      "100/100 [==============================] - 67s 668ms/step - loss: 0.6932 - acc: 0.4915 - val_loss: 0.6931 - val_acc: 0.5000\n",
      "Epoch 2/20\n",
      "100/100 [==============================] - 68s 684ms/step - loss: 0.6932 - acc: 0.4940 - val_loss: 0.6931 - val_acc: 0.5000\n",
      "Epoch 3/20\n",
      "100/100 [==============================] - 72s 725ms/step - loss: 0.6936 - acc: 0.5030 - val_loss: 0.6913 - val_acc: 0.5070\n",
      "Epoch 4/20\n",
      "100/100 [==============================] - 68s 681ms/step - loss: 0.6924 - acc: 0.5125 - val_loss: 0.6918 - val_acc: 0.5860\n",
      "Epoch 5/20\n",
      "100/100 [==============================] - 67s 666ms/step - loss: 0.6916 - acc: 0.5255 - val_loss: 0.6877 - val_acc: 0.5040\n",
      "Epoch 6/20\n",
      "100/100 [==============================] - 68s 683ms/step - loss: 0.6888 - acc: 0.5330 - val_loss: 0.6823 - val_acc: 0.5610\n",
      "Epoch 7/20\n",
      "100/100 [==============================] - 73s 727ms/step - loss: 0.6839 - acc: 0.5545 - val_loss: 0.6771 - val_acc: 0.5760\n",
      "Epoch 8/20\n",
      "100/100 [==============================] - 80s 796ms/step - loss: 0.6817 - acc: 0.5570 - val_loss: 0.6747 - val_acc: 0.5260\n",
      "Epoch 9/20\n",
      "100/100 [==============================] - 80s 800ms/step - loss: 0.6784 - acc: 0.5585 - val_loss: 0.6666 - val_acc: 0.5830\n",
      "Epoch 10/20\n",
      "100/100 [==============================] - 79s 794ms/step - loss: 0.6745 - acc: 0.5640 - val_loss: 0.7184 - val_acc: 0.5070\n",
      "Epoch 11/20\n",
      "100/100 [==============================] - 82s 817ms/step - loss: 0.6733 - acc: 0.5760 - val_loss: 0.6656 - val_acc: 0.6090\n",
      "Epoch 12/20\n",
      "100/100 [==============================] - 82s 824ms/step - loss: 0.6695 - acc: 0.5800 - val_loss: 0.6702 - val_acc: 0.5930\n",
      "Epoch 13/20\n",
      "100/100 [==============================] - 77s 764ms/step - loss: 0.6706 - acc: 0.5910 - val_loss: 0.6585 - val_acc: 0.6220\n",
      "Epoch 14/20\n",
      "100/100 [==============================] - 76s 758ms/step - loss: 0.6657 - acc: 0.5880 - val_loss: 0.6838 - val_acc: 0.5180\n",
      "Epoch 15/20\n",
      "100/100 [==============================] - 77s 771ms/step - loss: 0.6597 - acc: 0.6055 - val_loss: 0.6553 - val_acc: 0.6390\n",
      "Epoch 16/20\n",
      "100/100 [==============================] - 80s 796ms/step - loss: 0.6563 - acc: 0.6195 - val_loss: 0.6790 - val_acc: 0.5230\n",
      "Epoch 17/20\n",
      "100/100 [==============================] - 83s 830ms/step - loss: 0.6527 - acc: 0.6200 - val_loss: 0.6479 - val_acc: 0.6480\n",
      "Epoch 18/20\n",
      "100/100 [==============================] - 92s 921ms/step - loss: 0.6505 - acc: 0.6275 - val_loss: 0.6526 - val_acc: 0.6620\n",
      "Epoch 19/20\n",
      "100/100 [==============================] - 89s 884ms/step - loss: 0.6455 - acc: 0.6280 - val_loss: 0.6437 - val_acc: 0.6460\n",
      "Epoch 20/20\n",
      "100/100 [==============================] - 88s 885ms/step - loss: 0.6466 - acc: 0.6305 - val_loss: 0.6440 - val_acc: 0.5690\n"
     ]
    }
   ],
   "source": [
    "test_datagen=ImageDataGenerator(rescale=1./255)\n",
    "train_generator = train_datagen.flow_from_directory(\n",
    "    train_dir,\n",
    "    target_size=(150,150),\n",
    "    batch_size=20,\n",
    "    class_mode='binary'\n",
    ")\n",
    "validation_generator = test_datagen.flow_from_directory(\n",
    "    validation_dir,\n",
    "    target_size=(150,150),\n",
    "    batch_size=20,\n",
    "    class_mode='binary'\n",
    ")\n",
    "history = model.fit(train_generator,\n",
    "                    steps_per_epoch=100,\n",
    "                    epochs=20,\n",
    "                    validation_data=validation_generator,\n",
    "                    validation_steps=50\n",
    "                   )"
   ]
  },
  {
   "cell_type": "code",
   "execution_count": 20,
   "id": "c47f5f13",
   "metadata": {},
   "outputs": [
    {
     "name": "stdout",
     "output_type": "stream",
     "text": [
      "Downloading data from https://storage.googleapis.com/tensorflow/keras-applications/vgg16/vgg16_weights_tf_dim_ordering_tf_kernels_notop.h5\n",
      "58892288/58889256 [==============================] - 17s 0us/step\n"
     ]
    }
   ],
   "source": [
    "from tensorflow.keras.applications import VGG16\n",
    "conv_base = VGG16(weights='imagenet',\n",
    "                 include_top=False,\n",
    "                 input_shape=(150,150,3))"
   ]
  },
  {
   "cell_type": "code",
   "execution_count": 23,
   "id": "e3fd2cdc",
   "metadata": {},
   "outputs": [],
   "source": [
    "model = models.Sequential()\n",
    "model.add(conv_base)\n",
    "model.add(layers.Flatten())\n",
    "model.add(layers.Dense(256,activation='relu'))\n",
    "model.add(layers.Dense(1,activation='sigmoid'))\n"
   ]
  },
  {
   "cell_type": "code",
   "execution_count": 24,
   "id": "03ceec4c",
   "metadata": {},
   "outputs": [],
   "source": [
    "conv_base.trainable=False"
   ]
  },
  {
   "cell_type": "code",
   "execution_count": null,
   "id": "61507a77",
   "metadata": {},
   "outputs": [],
   "source": []
  }
 ],
 "metadata": {
  "kernelspec": {
   "display_name": "Python 3",
   "language": "python",
   "name": "python3"
  },
  "language_info": {
   "codemirror_mode": {
    "name": "ipython",
    "version": 3
   },
   "file_extension": ".py",
   "mimetype": "text/x-python",
   "name": "python",
   "nbconvert_exporter": "python",
   "pygments_lexer": "ipython3",
   "version": "3.8.8"
  }
 },
 "nbformat": 4,
 "nbformat_minor": 5
}
