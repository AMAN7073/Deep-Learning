{
  "nbformat": 4,
  "nbformat_minor": 0,
  "metadata": {
    "colab": {
      "name": "RNN.ipynb",
      "provenance": [],
      "collapsed_sections": [],
      "authorship_tag": "ABX9TyOawgnjGSKHey/mEBizJaWF",
      "include_colab_link": true
    },
    "kernelspec": {
      "name": "python3",
      "display_name": "Python 3"
    },
    "language_info": {
      "name": "python"
    }
  },
  "cells": [
    {
      "cell_type": "markdown",
      "metadata": {
        "id": "view-in-github",
        "colab_type": "text"
      },
      "source": [
        "<a href=\"https://colab.research.google.com/github/AMAN7073/Deep-Learning/blob/main/Deep_Layer_and_RNN.ipynb\" target=\"_parent\"><img src=\"https://colab.research.google.com/assets/colab-badge.svg\" alt=\"Open In Colab\"/></a>"
      ]
    },
    {
      "cell_type": "code",
      "source": [
        "import tensorflow as tf"
      ],
      "metadata": {
        "id": "te3MTlAvnc-w"
      },
      "execution_count": 1,
      "outputs": []
    },
    {
      "cell_type": "code",
      "source": [
        "class MyDenseLayer(tf.keras.layers.Layer):\n",
        "  def __init__ (self , input_dim , output_dim):\n",
        "    super(MyDenseLayer , self).__init__()\n",
        "\n",
        "    self.W = self.add_weight([input_dim , output_dim])\n",
        "    self.b = self.weight([1 , output_dim])\n",
        "  def call(self , inputs):\n",
        "    z = tf.matmul(inputs , self.W) + self.b\n",
        "    output = tf.math.sigmoid(z)\n",
        "    return output"
      ],
      "metadata": {
        "id": "tJfVetwrnjVJ"
      },
      "execution_count": 23,
      "outputs": []
    },
    {
      "cell_type": "code",
      "source": [
        "class MyRNNCell(tf.keras.layers.Layer):\n",
        "  def __init__(self , rnn_units , input_dim , output_dim):\n",
        "    super(MyRNNCell , self).__init__()\n",
        "\n",
        "    self.W_xh = self.add_weight(shape = (rnn_units , input_dim))\n",
        "    self.W_hh = self.add_weight(shape = (rnn_units , rnn_units))\n",
        "    self.W_yh = self.add_weight(shape = (output_dim , rnn_units))\n",
        "\n",
        "    self.h = tf.zeros(shape = (rnn_units , 1))\n",
        "\n",
        "  def call(self , x):\n",
        "    self.h = tf.math.tanh(self.W_hh * self.h + self.W_xh * x)\n",
        "\n",
        "    output = self.W_hy * self.h\n",
        "\n",
        "    return output , self.h"
      ],
      "metadata": {
        "id": "KZQkOzVHw0Al"
      },
      "execution_count": 24,
      "outputs": []
    }
  ]
}